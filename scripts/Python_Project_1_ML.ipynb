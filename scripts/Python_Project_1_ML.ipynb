{
 "cells": [
  {
   "cell_type": "markdown",
   "metadata": {},
   "source": [
    "## Project 1\n",
    "##### Jupyter notebook pratically explaining our results and approach"
   ]
  },
  {
   "cell_type": "code",
   "execution_count": 176,
   "metadata": {},
   "outputs": [
    {
     "name": "stdout",
     "output_type": "stream",
     "text": [
      "The autoreload extension is already loaded. To reload it, use:\n",
      "  %reload_ext autoreload\n"
     ]
    }
   ],
   "source": [
    "import numpy as np\n",
    "from implementations import *\n",
    "from proj1_helpers import *\n",
    "from cross_validation import *\n",
    "from pre_processing import *\n",
    "from split_jet_num import *\n",
    "from execute_code import *\n",
    "\n",
    "%load_ext autoreload\n",
    "%autoreload 2"
   ]
  },
  {
   "cell_type": "markdown",
   "metadata": {},
   "source": [
    "### Load data set"
   ]
  },
  {
   "cell_type": "code",
   "execution_count": 10,
   "metadata": {},
   "outputs": [
    {
     "name": "stdout",
     "output_type": "stream",
     "text": [
      "TRAIN DATAS LOADED!\n",
      "TEST DATAS LOADED!\n"
     ]
    }
   ],
   "source": [
    "\"\"\" y: class labels\n",
    "    tx: features\n",
    "    ids: event ids \"\"\"\n",
    "y, tx, ids = load_csv_data(\"datas/train.csv\", sub_sample=False)\n",
    "print(\"TRAIN DATA LOADED!\")\n",
    "\n",
    "no_y, tx_test, ids_test = load_csv_data(\"datas/test.csv\", sub_sample=False)\n",
    "print(\"TEST DATA LOADED!\")"
   ]
  },
  {
   "cell_type": "markdown",
   "metadata": {},
   "source": [
    "## Preprocessing \n",
    "### Replace missing values, create new_features, separate in 4 different sets concerning jet number, clean columns, standardize"
   ]
  },
  {
   "cell_type": "code",
   "execution_count": 114,
   "metadata": {},
   "outputs": [],
   "source": [
    "# Replace missing values with mean for each feature\n",
    "# train set\n",
    "medians = find_median(tx)\n",
    "train_median = replace_missing_values(tx, medians )\n",
    "\n",
    "# test set\n",
    "medians_test = find_median(tx_test)\n",
    "test_median = replace_missing_values(tx_test, medians_test )"
   ]
  },
  {
   "cell_type": "code",
   "execution_count": 133,
   "metadata": {},
   "outputs": [],
   "source": [
    "'''\n",
    "# NOT YELDING GOOD RESULTS NOW. I WAS HAVING IN MY JUPYTER :ABRANCHES\n",
    "# Create new features\n",
    "# train set\n",
    "new_feat, corr_columns = new_features(train_median,2)\n",
    "train_new_features = np.c_[ train_median, \n",
    "                       new_feat]\n",
    "\n",
    "# test set\n",
    "new_feat_t = new_feat_test(test_median,corr_columns,2)\n",
    "test_new_features = np.c_[ test_median, \n",
    "                       new_feat_t]\n",
    "'''"
   ]
  },
  {
   "cell_type": "code",
   "execution_count": 190,
   "metadata": {},
   "outputs": [],
   "source": [
    "# get features and their respective outcome regarding jet numbers\n",
    "# train\n",
    "features_jet_0, features_jet_1, features_jet_2, features_jet_3, \\\n",
    "y_jet_0, y_jet_1, y_jet_2, y_jet_3,\\\n",
    "ids_jet_0, ids_jet_1, ids_jet_2, ids_jet_3 \\\n",
    "= divide_dataset_looking_jetnum_and_remove_features(y, train_median, ids)\n",
    "\n",
    "# test\n",
    "features_jet_0_T, features_jet_1_T, features_jet_2_T, features_jet_3_T, \\\n",
    "y_jet_0_T, y_jet_1_T, y_jet_2_T, y_jet_3_T, \\\n",
    "ids_jet_0_T, ids_jet_1_T, ids_jet_2_T, ids_jet_3_T \\\n",
    "= divide_dataset_looking_jetnum_and_remove_features(no_y, test_median, ids_test) "
   ]
  },
  {
   "cell_type": "code",
   "execution_count": 191,
   "metadata": {},
   "outputs": [],
   "source": [
    "# Standardize\n",
    "features_jet_0_stand = standardize(features_jet_0)\n",
    "features_jet_1_stand = standardize(features_jet_1)\n",
    "features_jet_2_stand = standardize(features_jet_2)\n",
    "features_jet_3_stand = standardize(features_jet_3)\n",
    "\n",
    "# Outlier removal\n",
    "features_jet_0_outlier = outlier_removal(features_jet_0_outlier,85, 1,per_top = True, per_bot = True)\n",
    "features_jet_1_outlier = outlier_removal(features_jet_1_outlier,85, 1,per_top = True, per_bot = True)\n",
    "features_jet_2_outlier = outlier_removal(features_jet_2_outlier,85, 1,per_top = True, per_bot = True)\n",
    "features_jet_3_outlier = outlier_removal(features_jet_3_outlier,85, 1,per_top = True, per_bot = True)\n",
    "\n",
    "\n",
    "\n",
    "feat_yb_all_jets = [ [features_jet_0_outlier,y_jet_0,ids_jet_0], \\\n",
    "           [features_jet_1_outlier,y_jet_1,ids_jet_1], \\\n",
    "           [features_jet_2_outlier,y_jet_2,ids_jet_2], \\\n",
    "           [features_jet_3_outlier,y_jet_3,ids_jet_3]]\n",
    "\n"
   ]
  },
  {
   "cell_type": "markdown",
   "metadata": {},
   "source": [
    "## Test ML Methods and Cross validation \n",
    "K-fold cross-validation: original sample randomly partitioned into k equal sized subsamples.\n",
    "Repeated k times."
   ]
  },
  {
   "cell_type": "markdown",
   "metadata": {},
   "source": [
    "### Least Squares"
   ]
  },
  {
   "cell_type": "code",
   "execution_count": 192,
   "metadata": {},
   "outputs": [
    {
     "name": "stdout",
     "output_type": "stream",
     "text": [
      "<function least_squares at 0x0000018366417378>\n",
      "\n",
      "Accuracy test, mean: 0.830698, min value: 0.827595, max value: 0.834251 \n",
      "\n",
      "Accuracy train, mean: 0.831138, min value: 0.830135, max value: 0.832149 \n",
      "\n",
      "<function least_squares at 0x0000018366417378>\n",
      "\n",
      "Accuracy test, mean: 0.758009, min value: 0.751225, max value: 0.764896 \n",
      "\n",
      "Accuracy train, mean: 0.759440, min value: 0.758109, max value: 0.760865 \n",
      "\n",
      "<function least_squares at 0x0000018366417378>\n",
      "\n",
      "Accuracy test, mean: 0.817926, min value: 0.813598, max value: 0.821439 \n",
      "\n",
      "Accuracy train, mean: 0.820169, min value: 0.819429, max value: 0.820968 \n",
      "\n",
      "<function least_squares at 0x0000018366417378>\n",
      "\n",
      "Accuracy test, mean: 0.821435, min value: 0.815884, max value: 0.826489 \n",
      "\n",
      "Accuracy train, mean: 0.826715, min value: 0.825981, max value: 0.828125 \n",
      "\n"
     ]
    }
   ],
   "source": [
    "for y_jet in feat_yb_all_jets:\n",
    "    accuracy_train, method_name, w = execute_one_method(y_jet[1], y_jet[0], y_jet[2],\\\n",
    "                                                    least_squares, True, least_squares)"
   ]
  },
  {
   "cell_type": "markdown",
   "metadata": {},
   "source": [
    "### Ridge Regression"
   ]
  },
  {
   "cell_type": "code",
   "execution_count": 193,
   "metadata": {
    "scrolled": true
   },
   "outputs": [
    {
     "name": "stdout",
     "output_type": "stream",
     "text": [
      "<function least_squares at 0x0000018366417378>\n",
      "\n",
      "Accuracy test, mean: 0.827265, min value: 0.823641, max value: 0.831198 \n",
      "\n",
      "Accuracy train, mean: 0.827392, min value: 0.826456, max value: 0.828183 \n",
      "\n",
      "<function least_squares at 0x0000018366417378>\n",
      "\n",
      "Accuracy test, mean: 0.757325, min value: 0.750258, max value: 0.764315 \n",
      "\n",
      "Accuracy train, mean: 0.758821, min value: 0.756577, max value: 0.760607 \n",
      "\n",
      "<function least_squares at 0x0000018366417378>\n",
      "\n",
      "Accuracy test, mean: 0.817866, min value: 0.814888, max value: 0.820447 \n",
      "\n",
      "Accuracy train, mean: 0.819787, min value: 0.818883, max value: 0.821017 \n",
      "\n",
      "<function least_squares at 0x0000018366417378>\n",
      "\n",
      "Accuracy test, mean: 0.821931, min value: 0.816336, max value: 0.824910 \n",
      "\n",
      "Accuracy train, mean: 0.826117, min value: 0.825248, max value: 0.826940 \n",
      "\n"
     ]
    }
   ],
   "source": [
    "for y_jet in feat_yb_all_jets:\n",
    "    accuracy_train, method_name, w = execute_one_method(y_jet[1], y_jet[0], y_jet[2],\\\n",
    "                                                    least_squares, True, ridge_regression, lambda_ = 0.01)"
   ]
  },
  {
   "cell_type": "markdown",
   "metadata": {},
   "source": [
    "### Gradient Descent"
   ]
  },
  {
   "cell_type": "code",
   "execution_count": null,
   "metadata": {},
   "outputs": [],
   "source": []
  },
  {
   "cell_type": "code",
   "execution_count": null,
   "metadata": {},
   "outputs": [],
   "source": []
  }
 ],
 "metadata": {
  "kernelspec": {
   "display_name": "Python 3",
   "language": "python",
   "name": "python3"
  },
  "language_info": {
   "codemirror_mode": {
    "name": "ipython",
    "version": 3
   },
   "file_extension": ".py",
   "mimetype": "text/x-python",
   "name": "python",
   "nbconvert_exporter": "python",
   "pygments_lexer": "ipython3",
   "version": "3.6.7"
  }
 },
 "nbformat": 4,
 "nbformat_minor": 2
}
