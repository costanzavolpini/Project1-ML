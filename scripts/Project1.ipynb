{
 "cells": [
  {
   "cell_type": "markdown",
   "metadata": {},
   "source": [
    "## Project 1 \n",
    "#### Imports:"
   ]
  },
  {
   "cell_type": "code",
   "execution_count": 59,
   "metadata": {},
   "outputs": [
    {
     "name": "stdout",
     "output_type": "stream",
     "text": [
      "The autoreload extension is already loaded. To reload it, use:\n",
      "  %reload_ext autoreload\n"
     ]
    }
   ],
   "source": [
    "import numpy as np\n",
    "from implementations import *\n",
    "from proj1_helpers import *\n",
    "from cross_validation import *\n",
    "from pre_processing import *\n",
    "\n",
    "%load_ext autoreload\n",
    "%autoreload 2"
   ]
  },
  {
   "cell_type": "markdown",
   "metadata": {},
   "source": [
    "### Load data set"
   ]
  },
  {
   "cell_type": "code",
   "execution_count": 60,
   "metadata": {},
   "outputs": [
    {
     "name": "stdout",
     "output_type": "stream",
     "text": [
      "[ 1. -1. -1. ...  1. -1. -1.]\n",
      "[[ 138.47    51.655   97.827 ...    1.24    -2.475  113.497]\n",
      " [ 160.937   68.768  103.235 ... -999.    -999.      46.226]\n",
      " [-999.     162.172  125.953 ... -999.    -999.      44.251]\n",
      " ...\n",
      " [ 105.457   60.526   75.839 ... -999.    -999.      41.992]\n",
      " [  94.951   19.362   68.812 ... -999.    -999.       0.   ]\n",
      " [-999.      72.756   70.831 ... -999.    -999.       0.   ]]\n",
      "[100000 100001 100002 ... 349997 349998 349999]\n"
     ]
    }
   ],
   "source": [
    "\"\"\" y: class labels\n",
    "    tx: features\n",
    "    ids: event ids \"\"\"\n",
    "y, tx, ids = load_csv_data(\"datas/train.csv\", sub_sample=False)\n",
    "print(y)\n",
    "print(tx)\n",
    "print(ids)\n",
    "# tx_test, ids_test = load_csv_data(\"all_data/test.csv\", sub_sample=False)"
   ]
  },
  {
   "cell_type": "markdown",
   "metadata": {},
   "source": [
    "## Preprocessing \n",
    "### Replace missing values with mean and median  "
   ]
  },
  {
   "cell_type": "code",
   "execution_count": 61,
   "metadata": {},
   "outputs": [],
   "source": [
    "mean_array = find_mean(tx)\n",
    "median_array = find_median(tx)\n",
    "tx_mean = replace_missing_values(tx, mean_array)\n",
    "tx_median = replace_missing_values(tx, median_array)\n",
    "\n",
    "no_y, tx_test, ids_test = load_csv_data(\"datas/test.csv\", sub_sample=False)\n",
    "mean_array_test = find_mean(tx_test)\n",
    "median_array_test = find_median(tx_test)\n",
    "tx_mean_test = replace_missing_values(tx_test, mean_array_test)\n",
    "tx_median_test = replace_missing_values(tx_test, median_array_test)"
   ]
  },
  {
   "cell_type": "markdown",
   "metadata": {},
   "source": [
    "## Cross validation \n",
    "K-fold cross-validation: original sample randomly partitioned into k equal sized subsamples.\n",
    "Repeated k times."
   ]
  },
  {
   "cell_type": "code",
   "execution_count": 62,
   "metadata": {},
   "outputs": [],
   "source": [
    "seed = 19\n",
    "degree = 7\n",
    "k_fold = 5\n",
    "\n",
    "lambdas = np.logspace(-4, 0, 30) #just for ridge regression\n",
    "\n",
    "# split data in k fold\n",
    "k_indices = build_k_indices(y, k_fold, seed)"
   ]
  },
  {
   "cell_type": "code",
   "execution_count": null,
   "metadata": {},
   "outputs": [],
   "source": []
  },
  {
   "cell_type": "markdown",
   "metadata": {},
   "source": [
    "## Test ML Methods\n",
    "### Least Squares"
   ]
  },
  {
   "cell_type": "code",
   "execution_count": 63,
   "metadata": {},
   "outputs": [
    {
     "name": "stdout",
     "output_type": "stream",
     "text": [
      "RESULTS OBTAINED USING k=5 AND REPLACING MISSING VALUES WITH MEAN VALUE\n",
      "\n",
      "Iteration: 0) Accuracy train: 0.804520 - Accuracy test: 0.799740 - Loss: 0.575760\n",
      "\n",
      "Iteration: 1) Accuracy train: 0.800310 - Accuracy test: 0.802020 - Loss: 0.585639\n",
      "\n",
      "Iteration: 2) Accuracy train: 0.806710 - Accuracy test: 0.808080 - Loss: 0.572250\n",
      "\n",
      "Iteration: 3) Accuracy train: 0.804575 - Accuracy test: 0.800720 - Loss: 0.576161\n",
      "\n",
      "Iteration: 4) Accuracy train: 0.803565 - Accuracy test: 0.804200 - Loss: 0.577485\n",
      "\n",
      "Accuracy test, mean: 0.802952, min value: 0.799740, max value: 0.808080 \n",
      "\n",
      "Accuracy train, mean: 0.803936, min value: 0.800310, max value: 0.806710 \n",
      "\n",
      "RESULTS OBTAINED USING k=5 AND REPLACING MISSING VALUES WITH MEDIAN VALUE\n",
      "\n",
      "Iteration: 0) Accuracy train: 0.805525 - Accuracy test: 0.801640 - Loss: 0.573839\n",
      "\n",
      "Iteration: 1) Accuracy train: 0.804210 - Accuracy test: 0.807480 - Loss: 0.576331\n",
      "\n",
      "Iteration: 2) Accuracy train: 0.808065 - Accuracy test: 0.809400 - Loss: 0.569957\n",
      "\n",
      "Iteration: 3) Accuracy train: 0.805485 - Accuracy test: 0.801400 - Loss: 0.574242\n",
      "\n",
      "Iteration: 4) Accuracy train: 0.804755 - Accuracy test: 0.805380 - Loss: 0.575564\n",
      "\n",
      "Accuracy test, mean: 0.805060, min value: 0.801400, max value: 0.809400 \n",
      "\n",
      "Accuracy train, mean: 0.805608, min value: 0.804210, max value: 0.808065 \n",
      "\n"
     ]
    }
   ],
   "source": [
    "print(\"RESULTS OBTAINED USING k=5 AND REPLACING MISSING VALUES WITH MEAN VALUE\\n\")\n",
    "\n",
    "# define lists to store the accuracy of training data and test data\n",
    "accuracy_train = []\n",
    "accuracy_test = []\n",
    "losses = []\n",
    "y_test_predicted = []\n",
    "\n",
    "\n",
    "for k in range(k_fold):\n",
    "    loss, w, single_accuracy_train, single_accuracy_test, y_t_p = cross_validation(y, tx_mean, k_indices, k, degree, least_squares)\n",
    "    accuracy_train.append(single_accuracy_train)\n",
    "    accuracy_test.append(single_accuracy_test)\n",
    "    losses.append(loss)\n",
    "    y_test_predicted.append(y_t_p)\n",
    "\n",
    "    \n",
    "n = len(accuracy_train)\n",
    "for i in range(n):\n",
    "    print(\"Iteration: %d) Accuracy train: %f - Accuracy test: %f - Loss: %f\\n\" % (i, accuracy_train[i], accuracy_test[i], losses[i]))\n",
    "\n",
    "mean_accuracy_test = np.mean(accuracy_test)\n",
    "min_accuracy_test = np.min(accuracy_test)\n",
    "max_accuracy_test = np.max(accuracy_test)\n",
    "\n",
    "mean_accuracy_train = np.mean(accuracy_train)\n",
    "min_accuracy_train = np.min(accuracy_train)\n",
    "max_accuracy_train = np.max(accuracy_train)\n",
    "\n",
    "print(\"Accuracy test, mean: %f, min value: %f, max value: %f \\n\" %(mean_accuracy_test, min_accuracy_test, max_accuracy_test))\n",
    "print(\"Accuracy train, mean: %f, min value: %f, max value: %f \\n\" %(mean_accuracy_train, min_accuracy_train, max_accuracy_train))\n",
    "\n",
    "# %%%%%%%%%%%%%%%%%%%%%%%%%%\n",
    "print(\"RESULTS OBTAINED USING k=5 AND REPLACING MISSING VALUES WITH MEDIAN VALUE\\n\")\n",
    "\n",
    "# define lists to store the accuracy of training data and test data\n",
    "accuracy_train = []\n",
    "accuracy_test = []\n",
    "losses = []\n",
    "weights = []\n",
    "y_test_predicted = []\n",
    "\n",
    "\n",
    "for k in range(k_fold):\n",
    "    loss, w, single_accuracy_train, single_accuracy_test, y_t_p = cross_validation(y, tx_median, k_indices, k, degree, least_squares)\n",
    "    accuracy_train.append(single_accuracy_train)\n",
    "    accuracy_test.append(single_accuracy_test)\n",
    "    losses.append(loss)\n",
    "    weights.append(w)\n",
    "    y_test_predicted.append(y_t_p)\n",
    "\n",
    "    \n",
    "n = len(accuracy_train)\n",
    "for i in range(n):\n",
    "    print(\"Iteration: %d) Accuracy train: %f - Accuracy test: %f - Loss: %f\\n\" % (i, accuracy_train[i], accuracy_test[i], losses[i]))\n",
    "\n",
    "mean_accuracy_test = np.mean(accuracy_test)\n",
    "min_accuracy_test = np.min(accuracy_test)\n",
    "max_accuracy_test = np.max(accuracy_test)\n",
    "\n",
    "mean_accuracy_train = np.mean(accuracy_train)\n",
    "min_accuracy_train = np.min(accuracy_train)\n",
    "max_accuracy_train = np.max(accuracy_train)\n",
    "\n",
    "print(\"Accuracy test, mean: %f, min value: %f, max value: %f \\n\" %(mean_accuracy_test, min_accuracy_test, max_accuracy_test))\n",
    "print(\"Accuracy train, mean: %f, min value: %f, max value: %f \\n\" %(mean_accuracy_train, min_accuracy_train, max_accuracy_train))\n"
   ]
  },
  {
   "cell_type": "code",
   "execution_count": 70,
   "metadata": {},
   "outputs": [
    {
     "name": "stdout",
     "output_type": "stream",
     "text": [
      "(568238,)\n",
      "[-1. -1. -1. ...  1. -1. -1.]\n",
      "(568238,)\n"
     ]
    }
   ],
   "source": [
    "## SUBMIT PREDICTION\n",
    "test_poly = build_poly(tx_median_test, degree)\n",
    "\n",
    "y_test_predicted = predict_labels(weights[0], test_poly)\n",
    "print(y_test_predicted.shape)\n",
    "print(y_test_predicted)\n",
    "print(ids_test.shape)\n",
    "\n",
    "create_csv_submission(ids_test, y_test_predicted, \"submission-7\")"
   ]
  },
  {
   "cell_type": "markdown",
   "metadata": {},
   "source": [
    "### Ridge regression using normal equations"
   ]
  },
  {
   "cell_type": "code",
   "execution_count": 6,
   "metadata": {},
   "outputs": [
    {
     "name": "stdout",
     "output_type": "stream",
     "text": [
      "RESULTS OBTAINED USING k=5 AND REPLACING MISSING VALUES WITH MEAN VALUE\n",
      "\n",
      "Iteration: 0) Accuracy train: 0.804027 - Accuracy test: 0.803536 - Loss: 0.576613\n",
      "\n",
      "Iteration: 1) Accuracy train: 0.803951 - Accuracy test: 0.803472 - Loss: 0.576737\n",
      "\n",
      "Iteration: 2) Accuracy train: 0.803887 - Accuracy test: 0.803388 - Loss: 0.576868\n",
      "\n",
      "Iteration: 3) Accuracy train: 0.803800 - Accuracy test: 0.803276 - Loss: 0.577000\n",
      "\n",
      "Iteration: 4) Accuracy train: 0.803756 - Accuracy test: 0.803220 - Loss: 0.577129\n",
      "\n",
      "Iteration: 5) Accuracy train: 0.803686 - Accuracy test: 0.803168 - Loss: 0.577250\n",
      "\n",
      "Iteration: 6) Accuracy train: 0.803650 - Accuracy test: 0.803116 - Loss: 0.577364\n",
      "\n",
      "Iteration: 7) Accuracy train: 0.803587 - Accuracy test: 0.803092 - Loss: 0.577471\n",
      "\n",
      "Iteration: 8) Accuracy train: 0.803514 - Accuracy test: 0.803136 - Loss: 0.577576\n",
      "\n",
      "Iteration: 9) Accuracy train: 0.803502 - Accuracy test: 0.803104 - Loss: 0.577681\n",
      "\n",
      "Iteration: 10) Accuracy train: 0.803409 - Accuracy test: 0.803016 - Loss: 0.577790\n",
      "\n",
      "Iteration: 11) Accuracy train: 0.803356 - Accuracy test: 0.802932 - Loss: 0.577906\n",
      "\n",
      "Iteration: 12) Accuracy train: 0.803203 - Accuracy test: 0.802884 - Loss: 0.578029\n",
      "\n",
      "Iteration: 13) Accuracy train: 0.803148 - Accuracy test: 0.802916 - Loss: 0.578162\n",
      "\n",
      "Iteration: 14) Accuracy train: 0.803133 - Accuracy test: 0.802816 - Loss: 0.578309\n",
      "\n",
      "Iteration: 15) Accuracy train: 0.803091 - Accuracy test: 0.802704 - Loss: 0.578475\n",
      "\n",
      "Iteration: 16) Accuracy train: 0.803038 - Accuracy test: 0.802720 - Loss: 0.578668\n",
      "\n",
      "Iteration: 17) Accuracy train: 0.802930 - Accuracy test: 0.802768 - Loss: 0.578900\n",
      "\n",
      "Iteration: 18) Accuracy train: 0.802739 - Accuracy test: 0.802552 - Loss: 0.579183\n",
      "\n",
      "Iteration: 19) Accuracy train: 0.802608 - Accuracy test: 0.802292 - Loss: 0.579532\n",
      "\n",
      "Iteration: 20) Accuracy train: 0.802303 - Accuracy test: 0.802032 - Loss: 0.579962\n",
      "\n",
      "Iteration: 21) Accuracy train: 0.801968 - Accuracy test: 0.801540 - Loss: 0.580483\n",
      "\n",
      "Iteration: 22) Accuracy train: 0.801599 - Accuracy test: 0.801136 - Loss: 0.581102\n",
      "\n",
      "Iteration: 23) Accuracy train: 0.801118 - Accuracy test: 0.800728 - Loss: 0.581816\n",
      "\n",
      "Iteration: 24) Accuracy train: 0.800625 - Accuracy test: 0.800092 - Loss: 0.582621\n",
      "\n",
      "Iteration: 25) Accuracy train: 0.800073 - Accuracy test: 0.799604 - Loss: 0.583510\n",
      "\n",
      "Iteration: 26) Accuracy train: 0.799482 - Accuracy test: 0.799028 - Loss: 0.584483\n",
      "\n",
      "Iteration: 27) Accuracy train: 0.798878 - Accuracy test: 0.798456 - Loss: 0.585545\n",
      "\n",
      "Iteration: 28) Accuracy train: 0.798268 - Accuracy test: 0.797764 - Loss: 0.586699\n",
      "\n",
      "Iteration: 29) Accuracy train: 0.797588 - Accuracy test: 0.797200 - Loss: 0.587939\n",
      "\n",
      "Accuracy test, mean: 0.801923, min value: 0.797200, max value: 0.803536 \n",
      "\n",
      "Accuracy train, mean: 0.802331, min value: 0.797588, max value: 0.804027 \n",
      "\n",
      "RESULTS OBTAINED USING k=5 AND REPLACING MISSING VALUES WITH MEDIAN VALUE\n",
      "\n",
      "Iteration: 0) Accuracy train: 0.805060 - Accuracy test: 0.804628 - Loss: 0.574574\n",
      "\n",
      "Iteration: 1) Accuracy train: 0.805001 - Accuracy test: 0.804472 - Loss: 0.574689\n",
      "\n",
      "Iteration: 2) Accuracy train: 0.804869 - Accuracy test: 0.804348 - Loss: 0.574811\n",
      "\n",
      "Iteration: 3) Accuracy train: 0.804762 - Accuracy test: 0.804368 - Loss: 0.574936\n",
      "\n",
      "Iteration: 4) Accuracy train: 0.804709 - Accuracy test: 0.804284 - Loss: 0.575057\n",
      "\n",
      "Iteration: 5) Accuracy train: 0.804649 - Accuracy test: 0.804132 - Loss: 0.575172\n",
      "\n",
      "Iteration: 6) Accuracy train: 0.804624 - Accuracy test: 0.804068 - Loss: 0.575279\n",
      "\n",
      "Iteration: 7) Accuracy train: 0.804595 - Accuracy test: 0.803996 - Loss: 0.575380\n",
      "\n",
      "Iteration: 8) Accuracy train: 0.804575 - Accuracy test: 0.803956 - Loss: 0.575478\n",
      "\n",
      "Iteration: 9) Accuracy train: 0.804517 - Accuracy test: 0.803884 - Loss: 0.575578\n",
      "\n",
      "Iteration: 10) Accuracy train: 0.804426 - Accuracy test: 0.803884 - Loss: 0.575681\n",
      "\n",
      "Iteration: 11) Accuracy train: 0.804372 - Accuracy test: 0.803880 - Loss: 0.575791\n",
      "\n",
      "Iteration: 12) Accuracy train: 0.804284 - Accuracy test: 0.803840 - Loss: 0.575910\n",
      "\n",
      "Iteration: 13) Accuracy train: 0.804240 - Accuracy test: 0.803836 - Loss: 0.576039\n",
      "\n",
      "Iteration: 14) Accuracy train: 0.804183 - Accuracy test: 0.803780 - Loss: 0.576182\n",
      "\n",
      "Iteration: 15) Accuracy train: 0.804173 - Accuracy test: 0.803680 - Loss: 0.576343\n",
      "\n",
      "Iteration: 16) Accuracy train: 0.804083 - Accuracy test: 0.803720 - Loss: 0.576530\n",
      "\n",
      "Iteration: 17) Accuracy train: 0.804003 - Accuracy test: 0.803708 - Loss: 0.576754\n",
      "\n",
      "Iteration: 18) Accuracy train: 0.803860 - Accuracy test: 0.803504 - Loss: 0.577026\n",
      "\n",
      "Iteration: 19) Accuracy train: 0.803675 - Accuracy test: 0.803412 - Loss: 0.577361\n",
      "\n",
      "Iteration: 20) Accuracy train: 0.803449 - Accuracy test: 0.802980 - Loss: 0.577772\n",
      "\n",
      "Iteration: 21) Accuracy train: 0.803047 - Accuracy test: 0.802624 - Loss: 0.578271\n",
      "\n",
      "Iteration: 22) Accuracy train: 0.802711 - Accuracy test: 0.802228 - Loss: 0.578861\n",
      "\n",
      "Iteration: 23) Accuracy train: 0.802226 - Accuracy test: 0.801808 - Loss: 0.579542\n",
      "\n",
      "Iteration: 24) Accuracy train: 0.801772 - Accuracy test: 0.801256 - Loss: 0.580311\n",
      "\n",
      "Iteration: 25) Accuracy train: 0.801240 - Accuracy test: 0.800796 - Loss: 0.581163\n",
      "\n",
      "Iteration: 26) Accuracy train: 0.800670 - Accuracy test: 0.800240 - Loss: 0.582101\n",
      "\n",
      "Iteration: 27) Accuracy train: 0.800064 - Accuracy test: 0.799500 - Loss: 0.583133\n",
      "\n",
      "Iteration: 28) Accuracy train: 0.799357 - Accuracy test: 0.798972 - Loss: 0.584263\n",
      "\n",
      "Iteration: 29) Accuracy train: 0.798749 - Accuracy test: 0.798432 - Loss: 0.585487\n",
      "\n",
      "Accuracy test, mean: 0.802941, min value: 0.798432, max value: 0.804628 \n",
      "\n",
      "Accuracy train, mean: 0.803398, min value: 0.798749, max value: 0.805060 \n",
      "\n"
     ]
    }
   ],
   "source": [
    "print(\"RESULTS OBTAINED USING k=5 AND REPLACING MISSING VALUES WITH MEAN VALUE\\n\")\n",
    "\n",
    "# define lists to store the accuracy of training data and test data\n",
    "\n",
    "accuracy_train = []\n",
    "accuracy_test = []\n",
    "losses = []\n",
    "for lambda_ in lambdas:\n",
    "    accuracy_train_temp = []\n",
    "    accuracy_test_temp = []\n",
    "    losses_temp = []\n",
    "    for k in range(k_fold):\n",
    "        loss, w, single_accuracy_train, single_accuracy_test = cross_validation(y, tx_mean, k_indices, k, degree, ridge_regression, lambda_=lambda_)\n",
    "        accuracy_train_temp.append(single_accuracy_train)\n",
    "        accuracy_test_temp.append(single_accuracy_test)\n",
    "        losses_temp.append(loss)\n",
    "    accuracy_train.append(np.mean(accuracy_train_temp))\n",
    "    accuracy_test.append(np.mean(accuracy_test_temp))\n",
    "    losses.append(np.mean(losses_temp))\n",
    "\n",
    "    \n",
    "n = len(accuracy_train)\n",
    "for i in range(n):\n",
    "    print(\"Iteration: %d) Accuracy train: %f - Accuracy test: %f - Loss: %f\\n\" % (i, accuracy_train[i], accuracy_test[i], losses[i]))\n",
    "\n",
    "mean_accuracy_test = np.mean(accuracy_test)\n",
    "min_accuracy_test = np.min(accuracy_test)\n",
    "max_accuracy_test = np.max(accuracy_test)\n",
    "\n",
    "mean_accuracy_train = np.mean(accuracy_train)\n",
    "min_accuracy_train = np.min(accuracy_train)\n",
    "max_accuracy_train = np.max(accuracy_train)\n",
    "\n",
    "print(\"Accuracy test, mean: %f, min value: %f, max value: %f \\n\" %(mean_accuracy_test, min_accuracy_test, max_accuracy_test))\n",
    "print(\"Accuracy train, mean: %f, min value: %f, max value: %f \\n\" %(mean_accuracy_train, min_accuracy_train, max_accuracy_train))\n",
    "\n",
    "# %%%%%%%%%%%%%%%%%%%%%%%%%%\n",
    "print(\"RESULTS OBTAINED USING k=5 AND REPLACING MISSING VALUES WITH MEDIAN VALUE\\n\")\n",
    "\n",
    "# define lists to store the accuracy of training data and test data\n",
    "accuracy_train = []\n",
    "accuracy_test = []\n",
    "losses = []\n",
    "\n",
    "\n",
    "accuracy_train = []\n",
    "accuracy_test = []\n",
    "losses = []\n",
    "for lambda_ in lambdas:\n",
    "    accuracy_train_temp = []\n",
    "    accuracy_test_temp = []\n",
    "    losses_temp = []\n",
    "    for k in range(k_fold):\n",
    "        loss, w, single_accuracy_train, single_accuracy_test = cross_validation(y, tx_median, k_indices, k, degree, ridge_regression, lambda_=lambda_)\n",
    "        accuracy_train_temp.append(single_accuracy_train)\n",
    "        accuracy_test_temp.append(single_accuracy_test)\n",
    "        losses_temp.append(loss)\n",
    "    accuracy_train.append(np.mean(accuracy_train_temp))\n",
    "    accuracy_test.append(np.mean(accuracy_test_temp))\n",
    "    losses.append(np.mean(losses_temp))\n",
    "    \n",
    "n = len(accuracy_train)\n",
    "for i in range(n):\n",
    "    print(\"Iteration: %d) Accuracy train: %f - Accuracy test: %f - Loss: %f\\n\" % (i, accuracy_train[i], accuracy_test[i], losses[i]))\n",
    "\n",
    "mean_accuracy_test = np.mean(accuracy_test)\n",
    "min_accuracy_test = np.min(accuracy_test)\n",
    "max_accuracy_test = np.max(accuracy_test)\n",
    "\n",
    "mean_accuracy_train = np.mean(accuracy_train)\n",
    "min_accuracy_train = np.min(accuracy_train)\n",
    "max_accuracy_train = np.max(accuracy_train)\n",
    "\n",
    "print(\"Accuracy test, mean: %f, min value: %f, max value: %f \\n\" %(mean_accuracy_test, min_accuracy_test, max_accuracy_test))\n",
    "print(\"Accuracy train, mean: %f, min value: %f, max value: %f \\n\" %(mean_accuracy_train, min_accuracy_train, max_accuracy_train))\n"
   ]
  },
  {
   "cell_type": "markdown",
   "metadata": {},
   "source": []
  },
  {
   "cell_type": "code",
   "execution_count": 9,
   "metadata": {},
   "outputs": [],
   "source": []
  },
  {
   "cell_type": "code",
   "execution_count": 10,
   "metadata": {},
   "outputs": [],
   "source": []
  },
  {
   "cell_type": "code",
   "execution_count": null,
   "metadata": {},
   "outputs": [],
   "source": []
  },
  {
   "cell_type": "code",
   "execution_count": null,
   "metadata": {},
   "outputs": [],
   "source": []
  },
  {
   "cell_type": "code",
   "execution_count": null,
   "metadata": {},
   "outputs": [],
   "source": []
  },
  {
   "cell_type": "code",
   "execution_count": 140,
   "metadata": {},
   "outputs": [
    {
     "data": {
      "text/plain": [
       "(250000, 30)"
      ]
     },
     "execution_count": 140,
     "metadata": {},
     "output_type": "execute_result"
    }
   ],
   "source": []
  },
  {
   "cell_type": "code",
   "execution_count": 141,
   "metadata": {},
   "outputs": [
    {
     "name": "stdout",
     "output_type": "stream",
     "text": [
      "[-999. -999. -999. ... -999. -999. -999.]\n"
     ]
    },
    {
     "data": {
      "text/plain": [
       "(1580052,)"
      ]
     },
     "execution_count": 141,
     "metadata": {},
     "output_type": "execute_result"
    }
   ],
   "source": [
    "# print(tx[tx==-999.])\n",
    "# tx[tx==-999.].shape "
   ]
  },
  {
   "cell_type": "code",
   "execution_count": null,
   "metadata": {},
   "outputs": [],
   "source": []
  },
  {
   "cell_type": "code",
   "execution_count": null,
   "metadata": {},
   "outputs": [],
   "source": []
  },
  {
   "cell_type": "code",
   "execution_count": null,
   "metadata": {},
   "outputs": [],
   "source": []
  },
  {
   "cell_type": "code",
   "execution_count": null,
   "metadata": {},
   "outputs": [],
   "source": [
    "        "
   ]
  },
  {
   "cell_type": "code",
   "execution_count": null,
   "metadata": {},
   "outputs": [],
   "source": []
  }
 ],
 "metadata": {
  "kernelspec": {
   "display_name": "Python 3",
   "language": "python",
   "name": "python3"
  },
  "language_info": {
   "codemirror_mode": {
    "name": "ipython",
    "version": 3
   },
   "file_extension": ".py",
   "mimetype": "text/x-python",
   "name": "python",
   "nbconvert_exporter": "python",
   "pygments_lexer": "ipython3",
   "version": "3.6.5"
  }
 },
 "nbformat": 4,
 "nbformat_minor": 2
}
