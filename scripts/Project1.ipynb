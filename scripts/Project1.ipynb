{
 "cells": [
  {
   "cell_type": "markdown",
   "metadata": {},
   "source": [
    "## Project 1 \n",
    "Import dataset from proj1_helpers.py"
   ]
  },
  {
   "cell_type": "code",
   "execution_count": 1,
   "metadata": {},
   "outputs": [],
   "source": [
    "from proj1_helpers import *"
   ]
  },
  {
   "cell_type": "markdown",
   "metadata": {},
   "source": [
    "### ML Methods\n",
    "Import ML methods from implementations.py"
   ]
  },
  {
   "cell_type": "code",
   "execution_count": 2,
   "metadata": {},
   "outputs": [],
   "source": [
    "from implementations import *"
   ]
  },
  {
   "cell_type": "markdown",
   "metadata": {},
   "source": [
    "#### Test ML Methods"
   ]
  },
  {
   "cell_type": "code",
   "execution_count": 3,
   "metadata": {},
   "outputs": [
    {
     "name": "stdout",
     "output_type": "stream",
     "text": [
      "[ 1. -1. -1. ...  1. -1. -1.]\n",
      "[[ 138.47    51.655   97.827 ...    1.24    -2.475  113.497]\n",
      " [ 160.937   68.768  103.235 ... -999.    -999.      46.226]\n",
      " [-999.     162.172  125.953 ... -999.    -999.      44.251]\n",
      " ...\n",
      " [ 105.457   60.526   75.839 ... -999.    -999.      41.992]\n",
      " [  94.951   19.362   68.812 ... -999.    -999.       0.   ]\n",
      " [-999.      72.756   70.831 ... -999.    -999.       0.   ]]\n",
      "[100000 100001 100002 ... 349997 349998 349999]\n"
     ]
    }
   ],
   "source": [
    "import numpy as np\n",
    "\"\"\" y: class labels\n",
    "    tx: features\n",
    "    ids: event ids \"\"\"\n",
    "y, tx, ids = load_csv_data(\"datas/train.csv\", sub_sample=False)\n",
    "print(y)\n",
    "print(tx)\n",
    "print(ids)"
   ]
  },
  {
   "cell_type": "markdown",
   "metadata": {},
   "source": [
    "##### Matrix Standardization\n",
    "Preprocessing step to standardize the data, i.e. subtract the mean and divide by the standard deviation for each dimension. After this processing, each dimension has zero mean and unit variance."
   ]
  },
  {
   "cell_type": "code",
   "execution_count": 4,
   "metadata": {},
   "outputs": [
    {
     "name": "stdout",
     "output_type": "stream",
     "text": [
      "[[ 0.46141372  0.06833197  0.40768027 ...  1.5668      1.55858439\n",
      "   0.4125105 ]\n",
      " [ 0.51670419  0.55250482  0.54013641 ... -0.63936657 -0.63936694\n",
      "  -0.27381996]\n",
      " [-2.33785898  3.19515553  1.09655998 ... -0.63936657 -0.63936694\n",
      "  -0.29396985]\n",
      " ...\n",
      " [ 0.38016991  0.31931645 -0.13086367 ... -0.63936657 -0.63936694\n",
      "  -0.31701723]\n",
      " [ 0.35431502 -0.84532397 -0.30297338 ... -0.63936657 -0.63936694\n",
      "  -0.74543941]\n",
      " [-2.33785898  0.66533608 -0.25352276 ... -0.63936657 -0.63936694\n",
      "  -0.74543941]]\n"
     ]
    }
   ],
   "source": [
    "def standardize(x):\n",
    "    centered_data = x - np.mean(x, axis=0)\n",
    "    std_data = centered_data / np.std(centered_data, axis=0)\n",
    "    return std_data\n",
    "\n",
    "std_data_tx = standardize(tx)\n",
    "print(std_data_tx)"
   ]
  },
  {
   "cell_type": "code",
   "execution_count": 5,
   "metadata": {},
   "outputs": [],
   "source": [
    "# def test_our_methods():\n",
    "#     y_pred = predict_labels()\n",
    "#     create_csv_submission(ids, y_pred,  \"Project1\")\n"
   ]
  },
  {
   "cell_type": "markdown",
   "metadata": {},
   "source": [
    "### Replace missing values with mean, mode, median"
   ]
  },
  {
   "cell_type": "code",
   "execution_count": 6,
   "metadata": {},
   "outputs": [],
   "source": [
    "def clean_array(tx):\n",
    "    return np.ma.masked_values(tx, -999.) # Mask the array in order to not have -999.\n",
    "\n",
    "def find_mean(tx):\n",
    "    return (clean_array(tx)).mean(axis=0)\n",
    "\n",
    "def find_median(tx):\n",
    "    return np.ma.median(clean_array(tx), axis=0)\n",
    "    \n",
    "mean_array = find_mean(tx)\n",
    "median_array = find_median(tx)\n",
    "\n",
    "def replace_missing_values(tx, new_values):\n",
    "    x = np.copy(tx)\n",
    "    indices = np.where(x == -999.)\n",
    "    x[indices] = np.take(new_values, indices[1])\n",
    "    return x\n",
    "\n",
    "tx_mean = replace_missing_values(tx, mean_array)\n",
    "tx_median = replace_missing_values(tx, median_array)"
   ]
  },
  {
   "cell_type": "code",
   "execution_count": 7,
   "metadata": {},
   "outputs": [
    {
     "data": {
      "text/plain": [
       "masked_array(\n",
       "  data=[[138.47, 51.655, 97.827, ..., 1.24, -2.475, 113.497],\n",
       "        [160.937, 68.768, 103.235, ..., --, --, 46.226],\n",
       "        [--, 162.172, 125.953, ..., --, --, 44.251],\n",
       "        ...,\n",
       "        [105.457, 60.526, 75.839, ..., --, --, 41.992],\n",
       "        [94.951, 19.362, 68.812, ..., --, --, 0.0],\n",
       "        [--, 72.756, 70.831, ..., --, --, 0.0]],\n",
       "  mask=[[False, False, False, ..., False, False, False],\n",
       "        [False, False, False, ...,  True,  True, False],\n",
       "        [ True, False, False, ...,  True,  True, False],\n",
       "        ...,\n",
       "        [False, False, False, ...,  True,  True, False],\n",
       "        [False, False, False, ...,  True,  True, False],\n",
       "        [ True, False, False, ...,  True,  True, False]],\n",
       "  fill_value=-999.0)"
      ]
     },
     "execution_count": 7,
     "metadata": {},
     "output_type": "execute_result"
    }
   ],
   "source": [
    "# np.where(tx == -999.)\n",
    "clean_array(tx)"
   ]
  },
  {
   "cell_type": "code",
   "execution_count": 8,
   "metadata": {},
   "outputs": [],
   "source": [
    "# test = np.array([ np.array([1, 4, -999., -2, -2]), np.array([2, -4, -999., -999., -3]) ])\n",
    "# find_median(test)\n",
    "# replace_missing_values(test, find_median(test))\n",
    "\n",
    "# max(test, key = test.count)"
   ]
  },
  {
   "cell_type": "markdown",
   "metadata": {},
   "source": [
    "## Cross validation \n",
    "K-fold cross-validation: original sample randomly partitioned into k equal sized subsamples.\n",
    "Repeated k times."
   ]
  },
  {
   "cell_type": "code",
   "execution_count": 9,
   "metadata": {},
   "outputs": [],
   "source": [
    "def build_poly(x, degree):\n",
    "    \"\"\"polynomial basis functions for input data x, for j=0 up to j=degree.\"\"\"\n",
    "    poly = np.ones((len(x), 1))\n",
    "    for deg in range(1, degree+1):\n",
    "        poly = np.c_[poly, np.power(x, deg)]\n",
    "    return poly"
   ]
  },
  {
   "cell_type": "code",
   "execution_count": 10,
   "metadata": {},
   "outputs": [],
   "source": [
    "def build_k_indices(y, k_fold, seed):\n",
    "    \"\"\"build k indices for k-fold.\"\"\"\n",
    "    num_row = y.shape[0]\n",
    "    interval = int(num_row / k_fold)\n",
    "    np.random.seed(seed)\n",
    "    indices = np.random.permutation(num_row)\n",
    "    k_indices = [indices[k * interval: (k + 1) * interval] for k in range(k_fold)]\n",
    "    return np.array(k_indices)"
   ]
  },
  {
   "cell_type": "code",
   "execution_count": null,
   "metadata": {},
   "outputs": [],
   "source": [
    "def cross_validation(y, x, k_indices, k, lambda_, degree):\n",
    "    \"\"\"return the loss of ridge regression.\"\"\"\n",
    "    # get k'th subgroup in test, others in train\n",
    "    te_indice = k_indices[k]\n",
    "    tr_indice = k_indices[~(np.arange(k_indices.shape[0]) == k)]\n",
    "    tr_indice = tr_indice.reshape(-1)\n",
    "    y_te = y[te_indice]\n",
    "    y_tr = y[tr_indice]\n",
    "    x_te = x[te_indice]\n",
    "    x_tr = x[tr_indice]\n",
    "    # form data with polynomial degree\n",
    "    tx_tr = build_poly(x_tr, degree)\n",
    "    tx_te = build_poly(x_te, degree)\n",
    "    # ridge regression\n",
    "    w = ridge_regression(y_tr, tx_tr, lambda_)\n",
    "    # calculate the loss for train and test data\n",
    "    err1 = y_tr - tx_tr.dot(w)\n",
    "    loss_tr = np.sqrt(2 * compute_loss(y_tr, tx_tr, w))\n",
    "    loss_te = np.sqrt(2 * compute_loss(y_te, tx_te, w))\n",
    "    return loss_tr, loss_te,w"
   ]
  },
  {
   "cell_type": "code",
   "execution_count": null,
   "metadata": {},
   "outputs": [],
   "source": [
    "seed = 19\n",
    "degree = 7\n",
    "k_fold = 5\n",
    "lambdas = np.logspace(-4, 0, 30)\n",
    "# split data in k fold\n",
    "k_indices = build_k_indices(y, k_fold, seed)\n",
    "# define lists to store the loss of training data and test data\n",
    "rmse_tr = []\n",
    "rmse_te = []\n",
    "# cross validation\n",
    "for lambda_ in lambdas:\n",
    "    rmse_tr_tmp = []\n",
    "    rmse_te_tmp = []\n",
    "    for k in range(k_fold):\n",
    "        loss_tr, loss_te,_ = cross_validation(y, tx, k_indices, k, lambda_, degree)\n",
    "        rmse_tr_tmp.append(loss_tr)\n",
    "        rmse_te_tmp.append(loss_te)\n",
    "    rmse_tr.append(np.mean(rmse_tr_tmp))\n",
    "    rmse_te.append(np.mean(rmse_te_tmp))"
   ]
  },
  {
   "cell_type": "code",
   "execution_count": null,
   "metadata": {},
   "outputs": [],
   "source": []
  },
  {
   "cell_type": "code",
   "execution_count": 140,
   "metadata": {},
   "outputs": [
    {
     "data": {
      "text/plain": [
       "(250000, 30)"
      ]
     },
     "execution_count": 140,
     "metadata": {},
     "output_type": "execute_result"
    }
   ],
   "source": []
  },
  {
   "cell_type": "code",
   "execution_count": 141,
   "metadata": {},
   "outputs": [
    {
     "name": "stdout",
     "output_type": "stream",
     "text": [
      "[-999. -999. -999. ... -999. -999. -999.]\n"
     ]
    },
    {
     "data": {
      "text/plain": [
       "(1580052,)"
      ]
     },
     "execution_count": 141,
     "metadata": {},
     "output_type": "execute_result"
    }
   ],
   "source": [
    "# print(tx[tx==-999.])\n",
    "# tx[tx==-999.].shape "
   ]
  },
  {
   "cell_type": "code",
   "execution_count": null,
   "metadata": {},
   "outputs": [],
   "source": []
  },
  {
   "cell_type": "code",
   "execution_count": null,
   "metadata": {},
   "outputs": [],
   "source": []
  },
  {
   "cell_type": "code",
   "execution_count": null,
   "metadata": {},
   "outputs": [],
   "source": []
  },
  {
   "cell_type": "code",
   "execution_count": null,
   "metadata": {},
   "outputs": [],
   "source": [
    "        "
   ]
  },
  {
   "cell_type": "code",
   "execution_count": null,
   "metadata": {},
   "outputs": [],
   "source": []
  }
 ],
 "metadata": {
  "kernelspec": {
   "display_name": "Python 3",
   "language": "python",
   "name": "python3"
  },
  "language_info": {
   "codemirror_mode": {
    "name": "ipython",
    "version": 3
   },
   "file_extension": ".py",
   "mimetype": "text/x-python",
   "name": "python",
   "nbconvert_exporter": "python",
   "pygments_lexer": "ipython3",
   "version": "3.6.5"
  }
 },
 "nbformat": 4,
 "nbformat_minor": 2
}
