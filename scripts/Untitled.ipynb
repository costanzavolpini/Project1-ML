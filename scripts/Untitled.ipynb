{
 "cells": [
  {
   "cell_type": "code",
   "execution_count": 70,
   "metadata": {},
   "outputs": [
    {
     "name": "stdout",
     "output_type": "stream",
     "text": [
      "The autoreload extension is already loaded. To reload it, use:\n",
      "  %reload_ext autoreload\n"
     ]
    }
   ],
   "source": [
    "import numpy as np\n",
    "from implementations import *\n",
    "from proj1_helpers import *\n",
    "from cross_validation import *\n",
    "from pre_processing import *\n",
    "from split_jet_num import *\n",
    "from execute_code import *\n",
    "\n",
    "%load_ext autoreload\n",
    "%autoreload 2"
   ]
  },
  {
   "cell_type": "code",
   "execution_count": null,
   "metadata": {},
   "outputs": [],
   "source": []
  },
  {
   "cell_type": "code",
   "execution_count": 88,
   "metadata": {},
   "outputs": [],
   "source": [
    "\n",
    "# 1. Load datasets\n",
    "y, tx, ids = load_csv_data(\"datas/train.csv\", sub_sample=False)\n",
    "no_y, tx_test, ids_test = load_csv_data(\"datas/test.csv\", sub_sample=False)"
   ]
  },
  {
   "cell_type": "code",
   "execution_count": 109,
   "metadata": {},
   "outputs": [
    {
     "name": "stderr",
     "output_type": "stream",
     "text": [
      "[autoreload of cross_validation failed: Traceback (most recent call last):\n",
      "  File \"/Users/costanzavolpini/anaconda3/lib/python3.6/site-packages/IPython/extensions/autoreload.py\", line 245, in check\n",
      "    superreload(m, reload, self.old_objects)\n",
      "  File \"/Users/costanzavolpini/anaconda3/lib/python3.6/site-packages/IPython/extensions/autoreload.py\", line 368, in superreload\n",
      "    module = reload(module)\n",
      "  File \"/Users/costanzavolpini/anaconda3/lib/python3.6/imp.py\", line 315, in reload\n",
      "    return importlib.reload(module)\n",
      "  File \"/Users/costanzavolpini/anaconda3/lib/python3.6/importlib/__init__.py\", line 166, in reload\n",
      "    _bootstrap._exec(spec, module)\n",
      "  File \"<frozen importlib._bootstrap>\", line 618, in _exec\n",
      "  File \"<frozen importlib._bootstrap_external>\", line 678, in exec_module\n",
      "  File \"<frozen importlib._bootstrap>\", line 219, in _call_with_frames_removed\n",
      "  File \"/Users/costanzavolpini/Git/project1-ML/scripts/cross_validation.py\", line 2, in <module>\n",
      "    from pre_processing import build_poly, replace_set_normalize\n",
      "ImportError: cannot import name 'build_poly'\n",
      "]\n"
     ]
    }
   ],
   "source": [
    "tx_0 = tx_0.copy()\n",
    "tx_1 = tx_1.copy()\n",
    "tx_2 = tx_2.copy()\n",
    "tx_3 = tx_3.copy()\n",
    "\n",
    "# 2. Divide the train dataset looking on jet_num feature (column 22 of tx)\n",
    "tx_m = tx\n",
    "# tx_m = outlier_removal(tx, 95, 1, per_top = True, per_bot = True)\n",
    "tx_0, tx_1, tx_2, y_0, y_1, y_2, ids_0, ids_1, ids_2 = divide_dataset_looking_jetnum_and_remove_features(y, tx_m, ids)\n",
    "\n",
    "\n",
    "# # 3. Execute all methods on all subsets\n",
    "# acc0, w0 = execute_one_method(y_0, tx_0, ids_0, \"logistic\", False, 3, logistic_regression, initial_w=None, max_iters=1000, gamma=1e-6)\n",
    "# print(\"Selected method \", \"Logistic\")\n",
    "# print(\"with accuracy %f\" %(acc0))"
   ]
  },
  {
   "cell_type": "code",
   "execution_count": null,
   "metadata": {},
   "outputs": [],
   "source": []
  },
  {
   "cell_type": "code",
   "execution_count": 108,
   "metadata": {},
   "outputs": [
    {
     "name": "stderr",
     "output_type": "stream",
     "text": [
      "/Users/costanzavolpini/Git/project1-ML/scripts/implementations.py:90: FutureWarning: `rcond` parameter will change to the default of machine precision times ``max(M, N)`` where M and N are the input matrix dimensions.\n",
      "To use the future default and silence this warning we advise to pass `rcond=None`, to keep using the old, explicitly pass `rcond=-1`.\n",
      "  w = np.linalg.solve(a, b)\n"
     ]
    },
    {
     "name": "stdout",
     "output_type": "stream",
     "text": [
      "Selected method  RIDGE REGRESSION\n",
      "with accuracy 0.763007\n"
     ]
    }
   ],
   "source": [
    "acc0, m0, w0 = execute_all_methods(y_0, tx_0, ids_0, True, 6, lambda_=0.01, initial_w=None, max_iters=300, gamma=1e-6)\n",
    "print(\"Selected method \", m0)\n",
    "print(\"with accuracy %f\" %(acc0))\n",
    "\n",
    "# 0.763237\n",
    "# acc0, m0, w0 = execute_one_method(y_0, tx_0, ids_0, \"ridge\", True, 7, ridge_regression, lambda_=0.01)\n",
    "# print(\"Selected method \", \"ridge\")\n",
    "# print(\"with accuracy %f\" %(acc0))\n",
    "\n",
    "\n",
    "# BOH\n",
    "# acc0, w0 = execute_one_method(y_0, tx_0, ids_0, True, 3, initial_w=None, max_iters=300, gamma=1e-6)\n",
    "# print(\"Selected method \", \"logistic\")\n",
    "# print(\"with accuracy %f\" %(acc0))"
   ]
  },
  {
   "cell_type": "code",
   "execution_count": null,
   "metadata": {},
   "outputs": [],
   "source": []
  },
  {
   "cell_type": "code",
   "execution_count": null,
   "metadata": {},
   "outputs": [],
   "source": []
  },
  {
   "cell_type": "code",
   "execution_count": null,
   "metadata": {},
   "outputs": [],
   "source": []
  },
  {
   "cell_type": "code",
   "execution_count": null,
   "metadata": {},
   "outputs": [],
   "source": []
  },
  {
   "cell_type": "code",
   "execution_count": null,
   "metadata": {},
   "outputs": [],
   "source": []
  },
  {
   "cell_type": "code",
   "execution_count": null,
   "metadata": {},
   "outputs": [],
   "source": []
  },
  {
   "cell_type": "code",
   "execution_count": 105,
   "metadata": {},
   "outputs": [
    {
     "name": "stderr",
     "output_type": "stream",
     "text": [
      "/Users/costanzavolpini/Git/project1-ML/scripts/implementations.py:90: FutureWarning: `rcond` parameter will change to the default of machine precision times ``max(M, N)`` where M and N are the input matrix dimensions.\n",
      "To use the future default and silence this warning we advise to pass `rcond=None`, to keep using the old, explicitly pass `rcond=-1`.\n",
      "  w = np.linalg.solve(a, b)\n"
     ]
    },
    {
     "name": "stdout",
     "output_type": "stream",
     "text": [
      "Selected method  RIDGE REGRESSION\n",
      "with accuracy 0.762961\n"
     ]
    }
   ],
   "source": [
    "acc1, m1, w1 = execute_all_methods(y_1, tx_1, ids_1, True, 8, lambda_=0.01, initial_w=None, max_iters=300, gamma=1e-6)\n",
    "print(\"Selected method \", m1)\n",
    "print(\"with accuracy %f\" %(acc1))\n",
    "\n",
    "# 0.76\n",
    "# acc1, w1 = execute_one_method(y_1, tx_1, ids_1, \"least\", True, 3, least_squares)\n",
    "# print(\"Selected method \", \"least\")\n",
    "# print(\"with accuracy %f\" %(acc1))\n",
    "\n",
    "\n",
    "# 0.763193\n",
    "# acc1, w1 = execute_one_method(y_1, tx_1, ids_1, \"ridge\", True, 7, ridge_regression, lambda_=0.01)\n",
    "# print(\"Selected method \", \"ridge\")\n",
    "# print(\"with accuracy %f\" %(acc1))\n",
    "\n",
    "# 0.763219\n",
    "# acc1, w1 = execute_one_method(y_1, tx_1, ids_1, \"ridge\", True, 10, ridge_regression, lambda_=0.01)\n",
    "# print(\"Selected method \", \"ridge\")\n",
    "# print(\"with accuracy %f\" %(acc1))"
   ]
  },
  {
   "cell_type": "code",
   "execution_count": null,
   "metadata": {},
   "outputs": [],
   "source": []
  },
  {
   "cell_type": "code",
   "execution_count": null,
   "metadata": {},
   "outputs": [],
   "source": []
  },
  {
   "cell_type": "code",
   "execution_count": null,
   "metadata": {},
   "outputs": [],
   "source": []
  },
  {
   "cell_type": "code",
   "execution_count": null,
   "metadata": {},
   "outputs": [],
   "source": []
  },
  {
   "cell_type": "code",
   "execution_count": null,
   "metadata": {},
   "outputs": [],
   "source": []
  },
  {
   "cell_type": "code",
   "execution_count": 106,
   "metadata": {},
   "outputs": [
    {
     "name": "stderr",
     "output_type": "stream",
     "text": [
      "/Users/costanzavolpini/Git/project1-ML/scripts/implementations.py:90: FutureWarning: `rcond` parameter will change to the default of machine precision times ``max(M, N)`` where M and N are the input matrix dimensions.\n",
      "To use the future default and silence this warning we advise to pass `rcond=None`, to keep using the old, explicitly pass `rcond=-1`.\n",
      "  w = np.linalg.solve(a, b)\n"
     ]
    },
    {
     "name": "stdout",
     "output_type": "stream",
     "text": [
      "Selected method  RIDGE REGRESSION\n",
      "with accuracy 0.824194\n"
     ]
    }
   ],
   "source": [
    "acc2, m2, w2 = execute_all_methods(y_2, tx_2, ids_2, True, 8, lambda_=0.01, initial_w=None, max_iters=300, gamma=1e-6)\n",
    "print(\"Selected method \", m2)\n",
    "print(\"with accuracy %f\" %(acc2))\n",
    "\n",
    "# 0.822787\n",
    "# acc2, w2 = execute_one_method(y_2, tx_2, ids_2, \"ridge\", True, 3, ridge_regression, lambda_=0.01)\n",
    "# print(\"Selected method \", \"ridge\")\n",
    "# print(\"with accuracy %f\" %(acc2))\n",
    "\n",
    "\n",
    "# 0.824194\n",
    "# acc2, w2 = execute_one_method(y_2, tx_2, ids_2, \"ridge\", True, 8, ridge_regression, lambda_=0.01)\n",
    "# print(\"Selected method \", \"ridge\")\n",
    "# print(\"with accuracy %f\" %(acc2))"
   ]
  },
  {
   "cell_type": "code",
   "execution_count": null,
   "metadata": {},
   "outputs": [],
   "source": []
  },
  {
   "cell_type": "code",
   "execution_count": null,
   "metadata": {},
   "outputs": [],
   "source": []
  },
  {
   "cell_type": "code",
   "execution_count": null,
   "metadata": {},
   "outputs": [],
   "source": []
  },
  {
   "cell_type": "code",
   "execution_count": null,
   "metadata": {},
   "outputs": [],
   "source": []
  }
 ],
 "metadata": {
  "kernelspec": {
   "display_name": "Python 3",
   "language": "python",
   "name": "python3"
  },
  "language_info": {
   "codemirror_mode": {
    "name": "ipython",
    "version": 3
   },
   "file_extension": ".py",
   "mimetype": "text/x-python",
   "name": "python",
   "nbconvert_exporter": "python",
   "pygments_lexer": "ipython3",
   "version": "3.6.5"
  }
 },
 "nbformat": 4,
 "nbformat_minor": 2
}
